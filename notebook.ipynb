{
 "cells": [
  {
   "cell_type": "markdown",
   "metadata": {},
   "source": [
    "<h1>Projet de mathématiques</h1>\n",
    "\n",
    "<p>Ce notebook contient les fonctions nécessaires et les éventuels résultats de nos recherches pour le projet de mathématiques.</p>\n",
    "\n",
    "Groupe 21 :\n",
    "<ul><li>DUONG Ngo</li><li>DIENG Seydina</li><li>REIGNER Thibaud</li></ul>"
   ]
  },
  {
   "cell_type": "markdown",
   "metadata": {},
   "source": [
    "# Modèle de Cox-Ross-Rubinstein"
   ]
  },
  {
   "cell_type": "code",
   "execution_count": null,
   "metadata": {},
   "outputs": [
    {
     "ename": "",
     "evalue": "",
     "output_type": "error",
     "traceback": [
      "\u001b[1;31mThe kernel failed to start due to the missing module 'matplotlib'. Consider installing this module.\n",
      "Click <a href='https://aka.ms/kernelFailuresMissingModule'>here</a> for more info."
     ]
    }
   ],
   "source": [
    "# Bibliothèque math pour avoir accès aux fonctions mathématiques\n",
    "import math\n",
    "# Bibliothèque numpy pour faciliter la gestion des données et du calcul numérique\n",
    "import numpy as np\n",
    "import matplotlib\n"
   ]
  },
  {
   "cell_type": "markdown",
   "metadata": {},
   "source": [
    "## Premier pricer"
   ]
  },
  {
   "cell_type": "code",
   "execution_count": null,
   "metadata": {},
   "outputs": [
    {
     "ename": "",
     "evalue": "",
     "output_type": "error",
     "traceback": [
      "\u001b[1;31mThe kernel failed to start due to the missing module 'matplotlib'. Consider installing this module.\n",
      "Click <a href='https://aka.ms/kernelFailuresMissingModule'>here</a> for more info."
     ]
    }
   ],
   "source": [
    "#Question n°3\n",
    "\n",
    "\n",
    "def pricer_1(N, rn, hn, bn, s, f):\n",
    "    somme = 0\n",
    "    qn = (rn -bn) / (hn - bn)\n",
    "    for i in range(0, N+1):\n",
    "        I_parmi_N = math.factorial(N) / (math.factorial(i) * math.factorial(N - i))\n",
    "\n",
    "        somme +=  I_parmi_N * f(s*pow(1+hn,i)*pow(1+bn, N-i)) * pow(qn, i) * pow(1-qn, N-i)  \n",
    "    return somme/pow((1+rn), N)\n",
    "\n"
   ]
  },
  {
   "cell_type": "code",
   "execution_count": null,
   "metadata": {},
   "outputs": [
    {
     "ename": "",
     "evalue": "",
     "output_type": "error",
     "traceback": [
      "\u001b[1;31mThe kernel failed to start due to the missing module 'matplotlib'. Consider installing this module.\n",
      "Click <a href='https://aka.ms/kernelFailuresMissingModule'>here</a> for more info."
     ]
    }
   ],
   "source": [
    "#Question n°4\n",
    "\n",
    "#Test du pricer_1\n",
    "f = lambda x: max(x - 110, 0)\n",
    "pricer_1(20, 0.02, 0.05, -0.05, 100, f)"
   ]
  },
  {
   "cell_type": "markdown",
   "metadata": {},
   "source": [
    "## Deuxième pricer"
   ]
  },
  {
   "cell_type": "code",
   "execution_count": null,
   "metadata": {},
   "outputs": [
    {
     "ename": "",
     "evalue": "",
     "output_type": "error",
     "traceback": [
      "\u001b[1;31mThe kernel failed to start due to the missing module 'matplotlib'. Consider installing this module.\n",
      "Click <a href='https://aka.ms/kernelFailuresMissingModule'>here</a> for more info."
     ]
    }
   ],
   "source": [
    "#Question n°5    \n",
    "#fonction pricer_2 :\n",
    "\n",
    "def pricer_2(N, rn, hn, bn, s, f):\n",
    "    qn=(rn-bn) / (hn-bn)\n",
    "    #On modélise l'arbre des v_k par une grosse matrice (n+1) * (n+1)\n",
    "    V=np.zeros((N+1, N+1))\n",
    "    #Etape 1 : On va construire l'arbre par la fin puisqu'on connait les valeurs possibles de V_n=f(S_tN)\n",
    "    for i in range(0, N+1):\n",
    "        V[i][N]= f(s*((1+hn)**(N-i)) * (1+bn)**i)\n",
    "    #Etape 2 : On remonte l'arbre, l'espérance est alors facile à calculer, cf le rapport\n",
    "    for j in range(N-1, -1, -1):\n",
    "        for i in range(0, j+1):\n",
    "            V[i][j]=(1/(1+rn)) * (qn * V[i][j+1] + (1-qn) * V[i+1][j+1])\n",
    "    print(V)\n",
    "\n",
    "    return V[0][0]\n",
    "\n"
   ]
  },
  {
   "cell_type": "code",
   "execution_count": null,
   "metadata": {},
   "outputs": [
    {
     "ename": "",
     "evalue": "",
     "output_type": "error",
     "traceback": [
      "\u001b[1;31mThe kernel failed to start due to the missing module 'matplotlib'. Consider installing this module.\n",
      "Click <a href='https://aka.ms/kernelFailuresMissingModule'>here</a> for more info."
     ]
    }
   ],
   "source": [
    "#Question n°6\n",
    "\n",
    "#Test du pricer_2\n",
    "\n",
    "f = lambda x: max(x - 100, 0)\n",
    "pricer_2(3, 0.02, 0.05, -0.05,100, f)\n",
    "\n",
    "#dessiner l'arbre : fait sur Overleaf\n"
   ]
  },
  {
   "cell_type": "markdown",
   "metadata": {},
   "source": [
    "## Comparaison des deux pricers"
   ]
  },
  {
   "cell_type": "code",
   "execution_count": null,
   "metadata": {},
   "outputs": [
    {
     "ename": "",
     "evalue": "",
     "output_type": "error",
     "traceback": [
      "\u001b[1;31mThe kernel failed to start due to the missing module 'matplotlib'. Consider installing this module.\n",
      "Click <a href='https://aka.ms/kernelFailuresMissingModule'>here</a> for more info."
     ]
    }
   ],
   "source": [
    "#Question n°7\n",
    "N = np.random.randint(1, 16) # 16 non-compris\n",
    "f = lambda x: max(x - 110, 0)\n",
    "pricer1 =  pricer_1(N, 0.02, 0.05, -0.05, 100, f)\n",
    "pricer2 =  pricer_2(N, 0.02, 0.05, -0.05, 100, f)\n",
    "\n",
    "print(\"N = \", N)\n",
    "print(\"Premier pricer:\", pricer_1(N, 0.02, 0.05, -0.05, 100, f))\n",
    "print(\"Deuxième pricer:\", pricer_2(N, 0.02, 0.05, -0.05, 100, f))\n",
    "print(\"Différence entre les deux pricer:\", abs(pricer1 - pricer2))\n"
   ]
  },
  {
   "cell_type": "markdown",
   "metadata": {},
   "source": [
    "## La Couverture"
   ]
  },
  {
   "cell_type": "code",
   "execution_count": null,
   "metadata": {},
   "outputs": [
    {
     "ename": "",
     "evalue": "",
     "output_type": "error",
     "traceback": [
      "\u001b[1;31mThe kernel failed to start due to the missing module 'matplotlib'. Consider installing this module.\n",
      "Click <a href='https://aka.ms/kernelFailuresMissingModule'>here</a> for more info."
     ]
    }
   ],
   "source": [
    "#Question n°8\n",
    "\n",
    "N = 2\n",
    "s = 100\n",
    "rn = 0.03\n",
    "hn = 0.05\n",
    "bn = -0.05\n",
    "qn=(rn-bn) / (hn-bn)\n",
    "f = lambda x: max(x - 100, 0)\n",
    "\n"
   ]
  },
  {
   "cell_type": "markdown",
   "metadata": {},
   "source": [
    "### Couverture à la date t=0"
   ]
  },
  {
   "cell_type": "code",
   "execution_count": null,
   "metadata": {},
   "outputs": [
    {
     "ename": "",
     "evalue": "",
     "output_type": "error",
     "traceback": [
      "\u001b[1;31mThe kernel failed to start due to the missing module 'matplotlib'. Consider installing this module.\n",
      "Click <a href='https://aka.ms/kernelFailuresMissingModule'>here</a> for more info."
     ]
    }
   ],
   "source": [
    "#Question 10\n",
    "\n",
    "V1_hn = (1/(1 + rn))*(f(s*(1 + hn)**2)*qn + f(s*(1 + hn)*(1 + bn))*(1 - qn))\n",
    "V1_bn = (1/(1 + rn))*(f(s*(1 + hn)*(1 + bn))*qn + f(s*(1 + bn)**2)*(1 - qn))\n",
    "alpha_0 = (V1_hn - V1_bn) / ((hn-bn)*s)\n",
    "beta_0 = ((1+hn) * V1_bn - (1+bn) * V1_hn) / ((hn-bn)*(1+rn)) \n",
    "print (\"alpha0=\", alpha_0)\n",
    "print (\"beta0=\", beta_0)\n",
    "\n"
   ]
  },
  {
   "cell_type": "markdown",
   "metadata": {},
   "source": [
    "### Couverture à la date t=1 pour $S^{(N)}_{t_1} = s(1 + h_N)$"
   ]
  },
  {
   "cell_type": "code",
   "execution_count": null,
   "metadata": {},
   "outputs": [
    {
     "ename": "",
     "evalue": "",
     "output_type": "error",
     "traceback": [
      "\u001b[1;31mThe kernel failed to start due to the missing module 'matplotlib'. Consider installing this module.\n",
      "Click <a href='https://aka.ms/kernelFailuresMissingModule'>here</a> for more info."
     ]
    }
   ],
   "source": [
    "S = s*(1 + hn)\n",
    "alpha_1 = (1/((hn- bn)*S))*(f((1 + hn)*S) - f((1 + bn)*S))\n",
    "beta_1 = (1/((hn - bn)*((1 + rn)**2)))*(f((1 + bn)*S)*(hn + 1) - f((1 + hn)*S)*(1 + bn))\n",
    "print (\"alpha1=\", alpha_1)\n",
    "print (\"beta1=\", beta_1)\n"
   ]
  },
  {
   "cell_type": "markdown",
   "metadata": {},
   "source": [
    "### Couverture à la date t=1 pour $S^{(N)}_{t_1} = s(1 + b_N)$"
   ]
  },
  {
   "cell_type": "code",
   "execution_count": null,
   "metadata": {},
   "outputs": [
    {
     "ename": "",
     "evalue": "",
     "output_type": "error",
     "traceback": [
      "\u001b[1;31mThe kernel failed to start due to the missing module 'matplotlib'. Consider installing this module.\n",
      "Click <a href='https://aka.ms/kernelFailuresMissingModule'>here</a> for more info."
     ]
    }
   ],
   "source": [
    "S = s*(1 + bn)\n",
    "alpha_1 = (1/((hn- bn)*S))*(f((1 + hn)*S) - f((1 + bn)*S))\n",
    "beta_1 = (1/((hn - bn)*((1 + rn)**2)))*(f((1 + bn)*S)*(hn + 1) - f((1 + hn)*S)*(1 + bn))\n",
    "print (\"alpha1=\", alpha_1)\n",
    "print (\"beta1=\", beta_1)"
   ]
  }
 ],
 "metadata": {
  "interpreter": {
   "hash": "916dbcbb3f70747c44a77c7bcd40155683ae19c65e1c03b4aa3499c5328201f1"
  },
  "kernelspec": {
   "display_name": "Python 3.7.3 64-bit",
   "language": "python",
   "name": "python3"
  },
  "language_info": {
   "codemirror_mode": {
    "name": "ipython",
    "version": 3
   },
   "file_extension": ".py",
   "mimetype": "text/x-python",
   "name": "python",
   "nbconvert_exporter": "python",
   "pygments_lexer": "ipython3",
   "version": "3.9.12"
  },
  "orig_nbformat": 4
 },
 "nbformat": 4,
 "nbformat_minor": 2
}
