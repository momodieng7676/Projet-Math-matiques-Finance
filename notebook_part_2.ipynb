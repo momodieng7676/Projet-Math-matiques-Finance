{
 "cells": [
  {
   "cell_type": "markdown",
   "metadata": {},
   "source": [
    "<h1>Projet de mathématiques</h1>\n",
    "\n",
    "<p>Ce notebook contient les fonctions nécessaires et les éventuels résultats de nos recherches pour la partie deux du projet de mathématiques.</p>\n",
    "\n",
    "Groupe 21 :\n",
    "<ul><li>DUONG Ngo</li><li>DIENG Seydina</li><li>REIGNER Thibaud</li></ul>"
   ]
  },
  {
   "cell_type": "markdown",
   "metadata": {},
   "source": [
    "# Modèle de Black-Scholes"
   ]
  },
  {
   "cell_type": "code",
   "execution_count": 71,
   "metadata": {},
   "outputs": [],
   "source": [
    "# Bibliothèques numpy et scipy pour faciliter la gestion des données et du calcul numérique\n",
    "import scipy as sp\n",
    "import scipy.stats\n",
    "import numpy as np\n",
    "\n",
    "# Bibliothèque et sous-modules pour la représentation 2D/3D des données\n",
    "from matplotlib import cm\n",
    "import matplotlib.colors as colors\n",
    "import matplotlib.pyplot as plt\n",
    "from mpl_toolkits import mplot3d\n",
    "\n",
    "\n",
    "# Pour ignorer les warnings de division par zéro pour le calcul d'erreur relative\n",
    "import warnings\n",
    "warnings.filterwarnings(\"ignore\", category=RuntimeWarning)"
   ]
  },
  {
   "cell_type": "markdown",
   "metadata": {},
   "source": [
    "## Pricer par la méthode de Monte-Carlo"
   ]
  },
  {
   "cell_type": "code",
   "execution_count": 3,
   "metadata": {},
   "outputs": [],
   "source": [
    "#Question n°12\n",
    "\n",
    "def pricer_MC (n, s, r, sigma, T, f):\n",
    "    #On crée d'abord la suite (Ksi) composée de n variables aléatoires iid, suivant N(0,1):\n",
    "    ksi = scipy.stats.norm.rvs(0, 1, n)\n",
    "    #On initialise la valeur de retour :\n",
    "    res = 0\n",
    "    #Et on applique la formule donnée:\n",
    "    for i in range(n):\n",
    "        res += np.exp(-r*T)*f(s*np.exp((r - ((sigma**2)/2))*T + sigma*np.sqrt(T)*ksi[i]))\n",
    "    res = res / n\n",
    "    return res"
   ]
  },
  {
   "cell_type": "code",
   "execution_count": 96,
   "metadata": {},
   "outputs": [],
   "source": [
    "#Question n°13\n",
    "\n",
    "f = lambda x: max(x - 100, 0)\n",
    "\n",
    "#Attention le calcul peut-être un peu long (environ 20 secondes)\n",
    "res =[]\n",
    "val_n=[]\n",
    "for k in range(1,11):\n",
    "    val = pricer_MC(k*10**5, 100, 0.01, 0.1, 1, f)\n",
    "    val_n.append(k*10**5)\n",
    "    res.append(val)\n",
    "\n",
    "plt.scatter(val_n, res, color='blue')\n",
    "plt.xlabel(\"$n = 10^5k$\")\n",
    "plt.ylabel(\"Prix déterminé par le pricerMC\")\n",
    "plt.title(\"Evolution du prix par le pricerMC en fonction de $n$\")\n",
    "#plt.savefig(\"evol_pricerMC.png\")\n",
    "plt.show()"
   ]
  },
  {
   "cell_type": "markdown",
   "metadata": {},
   "source": [
    "## Pricer par formule fermée"
   ]
  },
  {
   "cell_type": "code",
   "execution_count": 5,
   "metadata": {},
   "outputs": [],
   "source": [
    "#Question n°15\n",
    "\n",
    "def put_BS(s, r, sigma, T, K):\n",
    "    #On calcule d1 et d2:\n",
    "    d1 = (1/(sigma*np.sqrt(T)))*(np.log(s/K) + (r + (sigma**2)/2)*T)\n",
    "    d2 =  d1 - sigma*np.sqrt(T)\n",
    "\n",
    "    #On définit ensuite la fonction F\n",
    "    def F(x):\n",
    "        return scipy.stats.norm.cdf(x, 0, 1)\n",
    "        \n",
    "    #On réalise finalement le calcul :\n",
    "    res = -s*F(-d1) + K*np.exp(-r*T)*F(-d2)\n",
    "    return res"
   ]
  },
  {
   "cell_type": "code",
   "execution_count": 6,
   "metadata": {},
   "outputs": [
    {
     "data": {
      "text/plain": [
       "0.5815000751362422"
      ]
     },
     "execution_count": 6,
     "metadata": {},
     "output_type": "execute_result"
    }
   ],
   "source": [
    "#Question n°16\n",
    "\n",
    "#Test du put_BS\n",
    "\n",
    "put_BS(100,0.01,0.1,1,90)"
   ]
  },
  {
   "cell_type": "code",
   "execution_count": 99,
   "metadata": {},
   "outputs": [],
   "source": [
    "#Question n°17\n",
    "\n",
    "#Tracé de Pricer_MC et put_BS\n",
    "\n",
    "f = lambda x: max(90 - x, 0)\n",
    "\n",
    "res =[]\n",
    "val_n=[]\n",
    "for k in range(1,11):\n",
    "    val = pricer_MC(k*10**5, 100, 0.01, 0.1, 1, f)\n",
    "    val_n.append(k*10**5)\n",
    "    res.append(val)\n",
    "\n",
    "# On trace le Pricer_MC\n",
    "\n",
    "plt.plot(val_n, res, color='blue', label='pricer2')\n",
    "plt.scatter(val_n, res, color='orange', s=13) \n",
    "\n",
    "#On trace put_BS\n",
    "putBS= put_BS(100, 0.01, 0.1, 1, 90)\n",
    "plt.plot(val_n, putBS*np.array([1 for k in range(1, 11)]), color='red', label='put_BS')\n",
    "\n",
    "plt.xlabel(\"$n = 10^5k$\")\n",
    "plt.ylabel(\"Prix par le pricer_MC\")\n",
    "plt.title(\"Comparaison du Put_BS et du pricer_MC\")\n",
    "plt.legend()\n",
    "plt.show()\n"
   ]
  },
  {
   "cell_type": "code",
   "execution_count": 100,
   "metadata": {},
   "outputs": [],
   "source": [
    "#Question n°18\n",
    "\n",
    "fig = plt.figure(figsize=(10,8))\n",
    "trois_axes = fig.add_subplot(111, projection='3d')\n",
    "\n",
    "T={1,2,3,4,6,12}\n",
    "for k in range(1,11):\n",
    "    for t in T:\n",
    "        val = put_BS(20*k, 0.01, 0.1, 1/t, 100)\n",
    "        trois_axes.scatter(20*k, 1/t, val, color=\"blue\", s=20)\n",
    "\n",
    "plt.title(\"Prix de l'option avec Put_BS\")\n",
    "trois_axes.set_xlabel(\"$s$\")\n",
    "trois_axes.set_ylabel(\"$T$\")\n",
    "trois_axes.set_zlabel(\"Put_BS\")\n",
    "\n",
    "\n",
    "plt.show()"
   ]
  },
  {
   "cell_type": "markdown",
   "metadata": {},
   "source": [
    "## Convergence des Prix"
   ]
  },
  {
   "cell_type": "code",
   "execution_count": 14,
   "metadata": {},
   "outputs": [],
   "source": [
    "#On redonne la fonction Pricer_2\n",
    " \n",
    "#fonction pricer_2 :\n",
    "\n",
    "def pricer_2(N, rn, hn, bn, s, f):\n",
    "    qn=(rn-bn) / (hn-bn)\n",
    "    #On modélise l'arbre des v_k par une grosse matrice (n+1) * (n+1)\n",
    "    V=np.zeros((N+1, N+1))\n",
    "    #Etape 1 : On va construire l'arbre par la fin puisqu'on connait les valeurs possibles de V_n=f(S_tN)\n",
    "    for i in range(0, N+1):\n",
    "        V[i][N]= f(s*((1+hn)**(N-i)) * (1+bn)**i)\n",
    "    #Etape 2 : On remonte l'arbre, l'espérance est alors facile à calculer, cf le rapport\n",
    "    for j in range(N-1, -1, -1):\n",
    "        for i in range(0, j+1):\n",
    "            V[i][j]=(1/(1+rn)) * (qn * V[i][j+1] + (1-qn) * V[i+1][j+1])\n",
    "\n",
    "    return V[0][0]"
   ]
  },
  {
   "cell_type": "code",
   "execution_count": 101,
   "metadata": {},
   "outputs": [],
   "source": [
    "#Question n°19\n",
    "\n",
    "f = lambda x: max(100 - x, 0)\n",
    "\n",
    "res = []\n",
    "val_n = []\n",
    "for k in range(1,101):\n",
    "    #On calcule rn, hn et bn\n",
    "    rn = (0.03*1)/(10*k)\n",
    "    hn = (1 + rn)*np.exp(0.2*np.sqrt(1/(10*k))) - 1\n",
    "    bn = (1 + rn)*np.exp(- 0.2*np.sqrt(1/(10*k))) - 1\n",
    "\n",
    "    #On en déduit la valeur de pricer_2\n",
    "    val = pricer_2(10*k,rn, hn, bn, 100, f)\n",
    "    res.append(val)\n",
    "    val_n.append(10*k)\n",
    "\n",
    "plt.plot(val_n, res, color='blue', label='pricer2')\n",
    "plt.scatter(val_n, res, color='orange', s=13)  \n",
    "\n",
    "#On trace put_BS\n",
    "plt.plot(val_n, put_BS(100, 0.03, 0.2, 1, 100)*np.array([1 for k in range(1, 101)]), color='green', label='put_BS')\n",
    "\n",
    "plt.legend()\n",
    "plt.xlabel(\"$N$\")\n",
    "plt.ylabel(\"Valeur de pricer2\")\n",
    "plt.title(\"Prix de l'option via le Pricer 2 par rapport à Put_BS en fonction de $N$\")\n",
    "\n",
    "plt.show()"
   ]
  },
  {
   "cell_type": "markdown",
   "metadata": {},
   "source": [
    "# EDP de Black-Scholes"
   ]
  },
  {
   "cell_type": "code",
   "execution_count": 20,
   "metadata": {},
   "outputs": [],
   "source": [
    "# On posera pour cette question :\n",
    "K = 0.9\n",
    "r = 0.015\n",
    "sigma = 0.21\n",
    "T = 1\n",
    "x_min = np.log(0.4)\n",
    "x_max = np.log(2)\n",
    "N = 100\n"
   ]
  },
  {
   "cell_type": "markdown",
   "metadata": {},
   "source": [
    "## Méthode des différences finies explicite"
   ]
  },
  {
   "cell_type": "code",
   "execution_count": 87,
   "metadata": {},
   "outputs": [],
   "source": [
    "#Déclarations utiles\n",
    "\n",
    "#On pose :\n",
    "M = 100\n",
    "\n",
    "\n",
    "# Création de la matrice des p(t_m, x_j)\n",
    "P = np.zeros((M, N ))\n",
    "\n",
    "\n",
    "# Discrétisation de l'espace-temps\n",
    "X_liste = np.linspace(x_min, x_max, N)\n",
    "T_liste = np.linspace(0, T, M)\n",
    "\n",
    "# Déclaration des pas spatial et temporel\n",
    "h = X_liste[1]\n",
    "dt = T_liste[1]\n",
    "\n",
    "# Conditions initiales\n",
    "for x in range(1,N-1):\n",
    "    P[0][x] = max(K - np.exp(X_liste[x]), 0)\n",
    "\n",
    "for t in range(M):\n",
    "    P[t][0] = K*np.exp(-r*T_liste[t]) - np.exp(x_min)\n",
    "    P[t][-1] = 0\n",
    "\n",
    "\n",
    "\n"
   ]
  },
  {
   "cell_type": "code",
   "execution_count": 88,
   "metadata": {},
   "outputs": [],
   "source": [
    "#On calcule les coefficients a[i] obtenus après avoir injectés les équations du schéma explicite\n",
    "#dans l'EDP:\n",
    "\n",
    "a1 = dt*((1/dt)-r-(sigma/h)**2)\n",
    "a2 = dt*((1/2)*(sigma/h)**2+(r-(sigma**2/2))*(1/(2*h)))\n",
    "a3 = dt*((1/2)*(sigma/h)**2-(r-(sigma**2/2))*(1/(2*h)))\n",
    "\n",
    "for m in range(1, M):\n",
    "    for n in range(1,N-2):\n",
    "        P[m][n] = a1*P[m-1][n] + a2*P[m-1][n+1] + a3*P[m-1][n-1]\n",
    "\n",
    "#print(P[-1])"
   ]
  },
  {
   "cell_type": "code",
   "execution_count": 102,
   "metadata": {},
   "outputs": [],
   "source": [
    "# Affichage de l'évolution du PUT en fonction de x\n",
    "plt.plot(X_liste, P[-1, :], color=\"blue\", label=\"Put_BS\")\n",
    "plt.plot(X_liste, np.fmax(K - np.exp(X_liste), 0), color = \"red\", label = \"payoff\")\n",
    "\n",
    "# Configurations\n",
    "plt.xlabel(\"Valeurs de $x$\")\n",
    "plt.ylabel(\"Valeur du Put_BS de l'option\")\n",
    "plt.title(\"METHODE EXPLICITE:\\nEvolution de la valeur du Put_BS sur l'espace\")\n",
    "plt.legend()\n",
    "plt.show()"
   ]
  },
  {
   "cell_type": "code",
   "execution_count": 103,
   "metadata": {},
   "outputs": [],
   "source": [
    "## Calcul de l'erreur relative\n",
    "\n",
    "err_absol =  np.absolute(P[-1] - np.fmax(K - np.exp(X_liste), 0))\n",
    "err_relat = err_absol/np.fmax(K - np.exp(X_liste), 0)\n",
    "\n",
    "# Affichage de l'évolution de l'erreur relative en fonction de x\n",
    "plt.scatter(X_liste, err_absol, color=\"blue\", label=\"Différence Finie Explicite\")\n",
    "plt.title(\"Erreur relative en fonction de l'espace pour la méthode explicite\")\n",
    "plt.legend()\n",
    "plt.xlabel(\"Valeurs de $x$\")\n",
    "plt.ylabel(\"Erreur relative réalisée\")\n",
    "plt.show()"
   ]
  },
  {
   "cell_type": "markdown",
   "metadata": {},
   "source": [
    "## Méthode des différences finies implicites"
   ]
  },
  {
   "cell_type": "code",
   "execution_count": 91,
   "metadata": {},
   "outputs": [],
   "source": [
    "#Déclarations utiles\n",
    "\n",
    "#On pose :\n",
    "M = 100\n",
    "\n",
    "\n",
    "# Création de la matrice des p(t_m, x_j)\n",
    "P = np.zeros((M, N ))\n",
    "\n",
    "\n",
    "# Discrétisation de l'espace-temps\n",
    "X_liste = np.linspace(x_min, x_max, N)\n",
    "T_liste = np.linspace(0, T, M)\n",
    "\n",
    "# Déclaration des pas spatial et temporel\n",
    "h = X_liste[1]\n",
    "dt = T_liste[1]\n",
    "\n",
    "# Conditions initiales\n",
    "for x in range(1,N-1):\n",
    "    P[0][x] = max(K - np.exp(X_liste[x]), 0)\n",
    "\n",
    "for t in range(M):\n",
    "    P[t][0] = K*np.exp(-r*T_liste[t]) - np.exp(x_min)\n",
    "    P[t][-1] = 0\n",
    "\n",
    "#On va travailler avec des matrices\n"
   ]
  }
 ],
 "metadata": {
  "interpreter": {
   "hash": "916dbcbb3f70747c44a77c7bcd40155683ae19c65e1c03b4aa3499c5328201f1"
  },
  "kernelspec": {
   "display_name": "Python 3.7.3 64-bit",
   "language": "python",
   "name": "python3"
  },
  "language_info": {
   "codemirror_mode": {
    "name": "ipython",
    "version": 3
   },
   "file_extension": ".py",
   "mimetype": "text/x-python",
   "name": "python",
   "nbconvert_exporter": "python",
   "pygments_lexer": "ipython3",
   "version": "3.7.3"
  },
  "orig_nbformat": 4
 },
 "nbformat": 4,
 "nbformat_minor": 2
}
